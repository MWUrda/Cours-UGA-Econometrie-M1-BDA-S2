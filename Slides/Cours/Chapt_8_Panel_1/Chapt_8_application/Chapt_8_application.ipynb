{
 "cells": [
  {
   "cell_type": "markdown",
   "metadata": {},
   "source": [
    "# <center> EXEMPLE DE CODE POUR APPLICATION SUR DONNÉES DE PANEL </center>"
   ]
  },
  {
   "cell_type": "code",
   "execution_count": 1,
   "metadata": {},
   "outputs": [],
   "source": [
    "import pandas as pd \n",
    "from linearmodels.panel import PooledOLS\n",
    "from linearmodels.panel import PanelOLS\n",
    "import numpy as np\n",
    "import statsmodels.api as sm"
   ]
  },
  {
   "cell_type": "code",
   "execution_count": 2,
   "metadata": {},
   "outputs": [
    {
     "name": "stdout",
     "output_type": "stream",
     "text": [
      "<class 'pandas.core.frame.DataFrame'>\n",
      "Int64Index: 1173 entries, 0 to 1172\n",
      "Data columns (total 13 columns):\n",
      " #   Column       Non-Null Count  Dtype  \n",
      "---  ------       --------------  -----  \n",
      " 0   year         1173 non-null   int8   \n",
      " 1   vio          1173 non-null   float32\n",
      " 2   mur          1173 non-null   float32\n",
      " 3   rob          1173 non-null   float32\n",
      " 4   incarc_rate  1173 non-null   int16  \n",
      " 5   pb1064       1173 non-null   float32\n",
      " 6   pw1064       1173 non-null   float32\n",
      " 7   pm1029       1173 non-null   float32\n",
      " 8   pop          1173 non-null   float32\n",
      " 9   avginc       1173 non-null   float32\n",
      " 10  density      1173 non-null   float32\n",
      " 11  stateid      1173 non-null   int8   \n",
      " 12  shall        1173 non-null   int8   \n",
      "dtypes: float32(9), int16(1), int8(3)\n",
      "memory usage: 56.1 KB\n"
     ]
    }
   ],
   "source": [
    "df_guns = pd.read_stata(\"/Volumes/GoogleDrive/Mon Drive/Guns/Guns.dta\")\n",
    "df_guns.info()"
   ]
  },
  {
   "cell_type": "code",
   "execution_count": null,
   "metadata": {},
   "outputs": [],
   "source": [
    "year = pd.Categorical(df_guns.year)\n",
    "df_guns = df_guns.set_index(['stateid', 'year'])\n",
    "df_guns['year'] = year\n",
    "df_guns['lvio'] = np.log(df_guns.vio)\n"
   ]
  },
  {
   "cell_type": "code",
   "execution_count": null,
   "metadata": {},
   "outputs": [],
   "source": [
    "print(df_guns.head())"
   ]
  },
  {
   "cell_type": "code",
   "execution_count": null,
   "metadata": {},
   "outputs": [],
   "source": [
    "exog_vars = ['shall', 'incarc_rate', 'density', 'avginc', 'pop', 'pb1064', 'pw1064', 'pm1029']\n",
    "exog = sm.add_constant(df_guns[exog_vars])\n",
    "mod = PanelOLS(df_guns.lvio, exog, entity_effects=True)\n",
    "fe_res = mod.fit()\n",
    "print(fe_res)"
   ]
  }
 ],
 "metadata": {
  "interpreter": {
   "hash": "8a894924a8054982a5c897c02f36d019274ceaf42c853aa8fb1f2ffcb169480b"
  },
  "kernelspec": {
   "display_name": "Python 3.8.8 ('base')",
   "language": "python",
   "name": "python3"
  },
  "language_info": {
   "codemirror_mode": {
    "name": "ipython",
    "version": 3
   },
   "file_extension": ".py",
   "mimetype": "text/x-python",
   "name": "python",
   "nbconvert_exporter": "python",
   "pygments_lexer": "ipython3",
   "version": "3.8.8"
  },
  "orig_nbformat": 4
 },
 "nbformat": 4,
 "nbformat_minor": 2
}
