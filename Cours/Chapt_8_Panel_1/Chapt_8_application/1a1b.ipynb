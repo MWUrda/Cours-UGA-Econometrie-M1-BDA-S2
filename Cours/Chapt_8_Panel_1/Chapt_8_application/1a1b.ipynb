{
 "cells": [
  {
   "cell_type": "code",
   "execution_count": 3,
   "metadata": {},
   "outputs": [],
   "source": [
    "import pandas as pd\n",
    "import statsmodels.api as sm\n",
    "import numpy as np\n",
    "\n",
    "df = pd.read_stata('/Users/michalurdanivia/Library/CloudStorage/GoogleDrive-mw.urdanivia@gmail.com/Mon Drive/Guns/Guns.dta')"
   ]
  },
  {
   "cell_type": "code",
   "execution_count": 2,
   "metadata": {},
   "outputs": [
    {
     "name": "stdout",
     "output_type": "stream",
     "text": [
      "<class 'pandas.core.frame.DataFrame'>\n",
      "Int64Index: 1173 entries, 0 to 1172\n",
      "Data columns (total 13 columns):\n",
      " #   Column       Non-Null Count  Dtype  \n",
      "---  ------       --------------  -----  \n",
      " 0   year         1173 non-null   int8   \n",
      " 1   vio          1173 non-null   float32\n",
      " 2   mur          1173 non-null   float32\n",
      " 3   rob          1173 non-null   float32\n",
      " 4   incarc_rate  1173 non-null   int16  \n",
      " 5   pb1064       1173 non-null   float32\n",
      " 6   pw1064       1173 non-null   float32\n",
      " 7   pm1029       1173 non-null   float32\n",
      " 8   pop          1173 non-null   float32\n",
      " 9   avginc       1173 non-null   float32\n",
      " 10  density      1173 non-null   float32\n",
      " 11  stateid      1173 non-null   int8   \n",
      " 12  shall        1173 non-null   int8   \n",
      "dtypes: float32(9), int16(1), int8(3)\n",
      "memory usage: 56.1 KB\n"
     ]
    }
   ],
   "source": [
    "df.info()"
   ]
  },
  {
   "cell_type": "code",
   "execution_count": 5,
   "metadata": {},
   "outputs": [
    {
     "name": "stdout",
     "output_type": "stream",
     "text": [
      "                            OLS Regression Results                            \n",
      "==============================================================================\n",
      "Dep. Variable:                   lvio   R-squared:                       0.087\n",
      "Model:                            OLS   Adj. R-squared:                  0.086\n",
      "Method:                 Least Squares   F-statistic:                     87.01\n",
      "Date:                Wed, 29 Mar 2023   Prob (F-statistic):           5.22e-20\n",
      "Time:                        10:43:45   Log-Likelihood:                -1097.7\n",
      "No. Observations:                1173   AIC:                             2199.\n",
      "Df Residuals:                    1171   BIC:                             2209.\n",
      "Df Model:                           1                                         \n",
      "Covariance Type:                  HC0                                         \n",
      "==============================================================================\n",
      "                 coef    std err          z      P>|z|      [0.025      0.975]\n",
      "------------------------------------------------------------------------------\n",
      "const          6.1349      0.019    318.078      0.000       6.097       6.173\n",
      "shall         -0.4430      0.047     -9.328      0.000      -0.536      -0.350\n",
      "==============================================================================\n",
      "Omnibus:                       18.398   Durbin-Watson:                   0.122\n",
      "Prob(Omnibus):                  0.000   Jarque-Bera (JB):               21.050\n",
      "Skew:                          -0.239   Prob(JB):                     2.69e-05\n",
      "Kurtosis:                       3.450   Cond. No.                         2.50\n",
      "==============================================================================\n",
      "\n",
      "Notes:\n",
      "[1] Standard Errors are heteroscedasticity robust (HC0)\n"
     ]
    }
   ],
   "source": [
    "# 1.a MCO log(vio) sur shall\n",
    "df['lvio'] = np.log(df['vio'])\n",
    "m1 = sm.OLS(df['lvio'], sm.add_constant(df['shall']), missing = 'drop')\n",
    "res1 = m1.fit(cov_type='HC0')\n",
    "print(res1.summary())"
   ]
  },
  {
   "cell_type": "code",
   "execution_count": 6,
   "metadata": {},
   "outputs": [
    {
     "name": "stdout",
     "output_type": "stream",
     "text": [
      "                            OLS Regression Results                            \n",
      "==============================================================================\n",
      "Dep. Variable:                   lvio   R-squared:                       0.564\n",
      "Model:                            OLS   Adj. R-squared:                  0.561\n",
      "Method:                 Least Squares   F-statistic:                     96.40\n",
      "Date:                Wed, 29 Mar 2023   Prob (F-statistic):          6.77e-123\n",
      "Time:                        10:47:21   Log-Likelihood:                -663.61\n",
      "No. Observations:                1173   AIC:                             1345.\n",
      "Df Residuals:                    1164   BIC:                             1391.\n",
      "Df Model:                           8                                         \n",
      "Covariance Type:                  HC0                                         \n",
      "===============================================================================\n",
      "                  coef    std err          z      P>|z|      [0.025      0.975]\n",
      "-------------------------------------------------------------------------------\n",
      "const           2.9817      0.607      4.915      0.000       1.793       4.171\n",
      "shall          -0.3684      0.035    -10.630      0.000      -0.436      -0.300\n",
      "incarc_rate     0.0016      0.000      8.959      0.000       0.001       0.002\n",
      "density         0.0267      0.014      1.867      0.062      -0.001       0.055\n",
      "avginc          0.0012      0.007      0.166      0.868      -0.013       0.015\n",
      "pop             0.0427      0.003     13.626      0.000       0.037       0.049\n",
      "pb1064          0.0809      0.020      4.060      0.000       0.042       0.120\n",
      "pw1064          0.0312      0.010      3.220      0.001       0.012       0.050\n",
      "pm1029          0.0089      0.012      0.738      0.460      -0.015       0.032\n",
      "==============================================================================\n",
      "Omnibus:                       71.332   Durbin-Watson:                   0.188\n",
      "Prob(Omnibus):                  0.000   Jarque-Bera (JB):               84.822\n",
      "Skew:                          -0.600   Prob(JB):                     3.81e-19\n",
      "Kurtosis:                       3.543   Cond. No.                     1.28e+04\n",
      "==============================================================================\n",
      "\n",
      "Notes:\n",
      "[1] Standard Errors are heteroscedasticity robust (HC0)\n",
      "[2] The condition number is large, 1.28e+04. This might indicate that there are\n",
      "strong multicollinearity or other numerical problems.\n"
     ]
    }
   ],
   "source": [
    "# 1.b MCO log(vio) sur shall, incarc_rate, density, avginc, pop, pb1064, pw1064 et pm1029.\n",
    "m2 = sm.OLS(df['lvio'], sm.add_constant(\n",
    "    df[['shall', 'incarc_rate', 'density', 'avginc', 'pop', 'pb1064', 'pw1064', 'pm1029']]), missing = 'drop')\n",
    "res2 = m2.fit(cov_type='HC0')\n",
    "print(res2.summary())\n"
   ]
  }
 ],
 "metadata": {
  "kernelspec": {
   "display_name": "linearmodels",
   "language": "python",
   "name": "python3"
  },
  "language_info": {
   "codemirror_mode": {
    "name": "ipython",
    "version": 3
   },
   "file_extension": ".py",
   "mimetype": "text/x-python",
   "name": "python",
   "nbconvert_exporter": "python",
   "pygments_lexer": "ipython3",
   "version": "3.10.9"
  },
  "orig_nbformat": 4
 },
 "nbformat": 4,
 "nbformat_minor": 2
}
