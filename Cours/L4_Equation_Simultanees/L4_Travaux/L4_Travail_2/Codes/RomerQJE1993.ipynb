{
 "cells": [
  {
   "cell_type": "code",
   "execution_count": 1,
   "metadata": {},
   "outputs": [],
   "source": [
    "import pandas as pd\n",
    "import statsmodels.api as sm\n",
    "from linearmodels.iv import IV2SLS"
   ]
  },
  {
   "cell_type": "code",
   "execution_count": 2,
   "metadata": {},
   "outputs": [],
   "source": [
    "url = 'http://qcpages.qc.cuny.edu/~rvesselinov/statadata/OPENNESS.DTA'\n",
    "df = pd.read_stata(url)"
   ]
  },
  {
   "cell_type": "code",
   "execution_count": 3,
   "metadata": {},
   "outputs": [
    {
     "name": "stdout",
     "output_type": "stream",
     "text": [
      "<class 'pandas.core.frame.DataFrame'>\n",
      "Int64Index: 114 entries, 0 to 113\n",
      "Data columns (total 12 columns):\n",
      " #   Column   Non-Null Count  Dtype  \n",
      "---  ------   --------------  -----  \n",
      " 0   open     114 non-null    float32\n",
      " 1   inf      114 non-null    float32\n",
      " 2   pcinc    114 non-null    int16  \n",
      " 3   land     114 non-null    float32\n",
      " 4   oil      114 non-null    int8   \n",
      " 5   good     114 non-null    int8   \n",
      " 6   lpcinc   114 non-null    float32\n",
      " 7   lland    114 non-null    float32\n",
      " 8   lopen    114 non-null    float32\n",
      " 9   linf     114 non-null    float32\n",
      " 10  opendec  114 non-null    float32\n",
      " 11  linfdec  114 non-null    float32\n",
      "dtypes: float32(9), int16(1), int8(2)\n",
      "memory usage: 5.3 KB\n"
     ]
    }
   ],
   "source": [
    "df.info()"
   ]
  },
  {
   "cell_type": "code",
   "execution_count": 4,
   "metadata": {},
   "outputs": [
    {
     "name": "stdout",
     "output_type": "stream",
     "text": [
      "                            OLS Regression Results                            \n",
      "==============================================================================\n",
      "Dep. Variable:                   open   R-squared:                       0.449\n",
      "Model:                            OLS   Adj. R-squared:                  0.439\n",
      "Method:                 Least Squares   F-statistic:                     22.49\n",
      "Date:                Mon, 13 Mar 2023   Prob (F-statistic):           6.30e-09\n",
      "Time:                        13:59:43   Log-Likelihood:                -488.45\n",
      "No. Observations:                 114   AIC:                             982.9\n",
      "Df Residuals:                     111   BIC:                             991.1\n",
      "Df Model:                           2                                         \n",
      "Covariance Type:                  HC0                                         \n",
      "==============================================================================\n",
      "                 coef    std err          z      P>|z|      [0.025      0.975]\n",
      "------------------------------------------------------------------------------\n",
      "const        122.7678     13.906      8.828      0.000      95.512     150.024\n",
      "pcinc         -0.0001      0.000     -0.430      0.667      -0.001       0.000\n",
      "lland         -7.6551      1.145     -6.686      0.000      -9.899      -5.411\n",
      "==============================================================================\n",
      "Omnibus:                       55.041   Durbin-Watson:                   2.174\n",
      "Prob(Omnibus):                  0.000   Jarque-Bera (JB):              189.330\n",
      "Skew:                           1.722   Prob(JB):                     7.72e-42\n",
      "Kurtosis:                       8.291   Cond. No.                     3.21e+04\n",
      "==============================================================================\n",
      "\n",
      "Notes:\n",
      "[1] Standard Errors are heteroscedasticity robust (HC0)\n",
      "[2] The condition number is large, 3.21e+04. This might indicate that there are\n",
      "strong multicollinearity or other numerical problems.\n"
     ]
    }
   ],
   "source": [
    "# Estimation par MCO de la forme réduite(équation de \"open\")\n",
    "\n",
    "open_mco = sm.OLS(df['open'], sm.add_constant(df[['pcinc', 'lland']]))\n",
    "open_res = open_mco.fit(cov_type='HC0')\n",
    "print(open_res.summary()) "
   ]
  },
  {
   "cell_type": "code",
   "execution_count": 5,
   "metadata": {},
   "outputs": [
    {
     "name": "stdout",
     "output_type": "stream",
     "text": [
      "                          IV-2SLS Estimation Summary                          \n",
      "==============================================================================\n",
      "Dep. Variable:                    inf   R-squared:                      0.0407\n",
      "Estimator:                    IV-2SLS   Adj. R-squared:                 0.0234\n",
      "No. Observations:                 114   F-statistic:                    5.8614\n",
      "Date:                Mon, Mar 13 2023   P-value (F-stat)                0.0534\n",
      "Time:                        13:59:46   Distribution:                  chi2(2)\n",
      "Cov. Estimator:                robust                                         \n",
      "                                                                              \n",
      "                             Parameter Estimates                              \n",
      "==============================================================================\n",
      "            Parameter  Std. Err.     T-stat    P-value    Lower CI    Upper CI\n",
      "------------------------------------------------------------------------------\n",
      "const          30.690     7.3212     4.1919     0.0000      16.340      45.039\n",
      "pcinc         -0.0004     0.0003    -1.5362     0.1245     -0.0010      0.0001\n",
      "open          -0.3175     0.1417    -2.2407     0.0250     -0.5951     -0.0398\n",
      "==============================================================================\n",
      "\n",
      "Endogenous: open\n",
      "Instruments: lland\n",
      "Robust Covariance (Heteroskedastic)\n",
      "Debiased: False\n"
     ]
    }
   ],
   "source": [
    "# 2MC\n",
    "\n",
    "model_2mc = IV2SLS(df['inf'], sm.add_constant(df['pcinc']), df['open'], df['lland'])\n",
    "res_2mc = model_2mc.fit(cov_type=\"robust\")\n",
    "print(res_2mc)"
   ]
  },
  {
   "cell_type": "code",
   "execution_count": 6,
   "metadata": {},
   "outputs": [
    {
     "name": "stdout",
     "output_type": "stream",
     "text": [
      "                            OLS Regression Results                            \n",
      "==============================================================================\n",
      "Dep. Variable:                    inf   R-squared:                       0.052\n",
      "Model:                            OLS   Adj. R-squared:                  0.035\n",
      "Method:                 Least Squares   F-statistic:                     4.159\n",
      "Date:                Mon, 13 Mar 2023   Prob (F-statistic):             0.0181\n",
      "Time:                        13:59:50   Log-Likelihood:                -520.49\n",
      "No. Observations:                 114   AIC:                             1047.\n",
      "Df Residuals:                     111   BIC:                             1055.\n",
      "Df Model:                           2                                         \n",
      "Covariance Type:                  HC0                                         \n",
      "==============================================================================\n",
      "                 coef    std err          z      P>|z|      [0.025      0.975]\n",
      "------------------------------------------------------------------------------\n",
      "const         26.8379      5.098      5.264      0.000      16.846      36.830\n",
      "pcinc         -0.0005      0.000     -1.697      0.090      -0.001    7.41e-05\n",
      "open          -0.2094      0.075     -2.775      0.006      -0.357      -0.062\n",
      "==============================================================================\n",
      "Omnibus:                      162.249   Durbin-Watson:                   2.118\n",
      "Prob(Omnibus):                  0.000   Jarque-Bera (JB):             6573.937\n",
      "Skew:                           5.343   Prob(JB):                         0.00\n",
      "Kurtosis:                      38.634   Cond. No.                     1.14e+04\n",
      "==============================================================================\n",
      "\n",
      "Notes:\n",
      "[1] Standard Errors are heteroscedasticity robust (HC0)\n",
      "[2] The condition number is large, 1.14e+04. This might indicate that there are\n",
      "strong multicollinearity or other numerical problems.\n"
     ]
    }
   ],
   "source": [
    "# Comparaison MCO.\n",
    "\n",
    "model_mco = sm.OLS(df['inf'], sm.add_constant(df[['pcinc', 'open']]))\n",
    "res_mco = model_mco.fit(cov_type='HC0')\n",
    "print(res_mco.summary())\n"
   ]
  },
  {
   "cell_type": "code",
   "execution_count": 7,
   "metadata": {},
   "outputs": [],
   "source": [
    "df['open_sq'] = df.open ** 2\n",
    "df['lland_sq'] = df.lland ** 2"
   ]
  },
  {
   "cell_type": "code",
   "execution_count": 8,
   "metadata": {},
   "outputs": [
    {
     "name": "stdout",
     "output_type": "stream",
     "text": [
      "                          IV-2SLS Estimation Summary                          \n",
      "==============================================================================\n",
      "Dep. Variable:                    inf   R-squared:                     -0.0153\n",
      "Estimator:                    IV-2SLS   Adj. R-squared:                -0.0430\n",
      "No. Observations:                 114   F-statistic:                    5.1894\n",
      "Date:                Mon, Mar 13 2023   P-value (F-stat)                0.1584\n",
      "Time:                        13:59:57   Distribution:                  chi2(3)\n",
      "Cov. Estimator:                robust                                         \n",
      "                                                                              \n",
      "                             Parameter Estimates                              \n",
      "==============================================================================\n",
      "            Parameter  Std. Err.     T-stat    P-value    Lower CI    Upper CI\n",
      "------------------------------------------------------------------------------\n",
      "const          49.014     17.544     2.7937     0.0052      14.628      83.399\n",
      "pcinc         -0.0004     0.0003    -1.2036     0.2287     -0.0010      0.0002\n",
      "open          -1.2406     0.7017    -1.7680     0.0771     -2.6158      0.1347\n",
      "open_sq        0.0081     0.0054     1.5021     0.1331     -0.0025      0.0187\n",
      "==============================================================================\n",
      "\n",
      "Endogenous: open, open_sq\n",
      "Instruments: lland, lland_sq\n",
      "Robust Covariance (Heteroskedastic)\n",
      "Debiased: False\n"
     ]
    }
   ],
   "source": [
    "model_2mc = IV2SLS(df['inf'], sm.add_constant(df['pcinc']), df[['open', 'open_sq']], df[['lland', 'lland_sq']])\n",
    "res_2mc = model_2mc.fit(cov_type=\"robust\")\n",
    "print(res_2mc)"
   ]
  },
  {
   "cell_type": "code",
   "execution_count": null,
   "metadata": {},
   "outputs": [],
   "source": [
    "model_2mc_b = IV2SLS(df['inf'], sm.add_constant(df['pcinc']), df[['open', 'open_sq']], df[['lland', 'lland_sq']])\n",
    "res_2mc_b = model_2mc_b.fit(cov_type=\"robust\")\n",
    "print(res_2mc)"
   ]
  },
  {
   "cell_type": "code",
   "execution_count": 17,
   "metadata": {},
   "outputs": [],
   "source": [
    "model_q4a = sm.OLS(df['open'], sm.add_constant(df[['pcinc', 'lland']])).fit(cov_type='HC0')\n",
    "df['open_fit_sq'] = model_q4a.fittedvalues**2\n",
    "df['open_fit'] = model_q4a.fittedvalues"
   ]
  },
  {
   "cell_type": "code",
   "execution_count": 18,
   "metadata": {},
   "outputs": [
    {
     "name": "stdout",
     "output_type": "stream",
     "text": [
      "                            OLS Regression Results                            \n",
      "==============================================================================\n",
      "Dep. Variable:                    inf   R-squared:                       0.063\n",
      "Model:                            OLS   Adj. R-squared:                  0.037\n",
      "Method:                 Least Squares   F-statistic:                     2.574\n",
      "Date:                Mon, 13 Mar 2023   Prob (F-statistic):             0.0577\n",
      "Time:                        14:47:53   Log-Likelihood:                -519.84\n",
      "No. Observations:                 114   AIC:                             1048.\n",
      "Df Residuals:                     110   BIC:                             1059.\n",
      "Df Model:                           3                                         \n",
      "Covariance Type:                  HC0                                         \n",
      "===============================================================================\n",
      "                  coef    std err          z      P>|z|      [0.025      0.975]\n",
      "-------------------------------------------------------------------------------\n",
      "const          40.9028     14.457      2.829      0.005      12.567      69.238\n",
      "pcinc          -0.0005      0.000     -1.654      0.098      -0.001    9.77e-05\n",
      "open_fit       -0.8556      0.556     -1.539      0.124      -1.945       0.234\n",
      "open_fit_sq     0.0062      0.005      1.240      0.215      -0.004       0.016\n",
      "==============================================================================\n",
      "Omnibus:                      158.817   Durbin-Watson:                   2.237\n",
      "Prob(Omnibus):                  0.000   Jarque-Bera (JB):             6139.057\n",
      "Skew:                           5.166   Prob(JB):                         0.00\n",
      "Kurtosis:                      37.434   Cond. No.                     2.93e+04\n",
      "==============================================================================\n",
      "\n",
      "Notes:\n",
      "[1] Standard Errors are heteroscedasticity robust (HC0)\n",
      "[2] The condition number is large, 2.93e+04. This might indicate that there are\n",
      "strong multicollinearity or other numerical problems.\n"
     ]
    }
   ],
   "source": [
    "model_q4b = sm.OLS(df['inf'], sm.add_constant(df[['pcinc', 'open_fit', 'open_fit_sq']])).fit(cov_type='HC0')\n",
    "print(model_q4b.summary())"
   ]
  }
 ],
 "metadata": {
  "interpreter": {
   "hash": "8a894924a8054982a5c897c02f36d019274ceaf42c853aa8fb1f2ffcb169480b"
  },
  "kernelspec": {
   "display_name": "Python 3",
   "language": "python",
   "name": "python3"
  },
  "language_info": {
   "codemirror_mode": {
    "name": "ipython",
    "version": 3
   },
   "file_extension": ".py",
   "mimetype": "text/x-python",
   "name": "python",
   "nbconvert_exporter": "python",
   "pygments_lexer": "ipython3",
   "version": "3.10.9"
  }
 },
 "nbformat": 4,
 "nbformat_minor": 4
}
